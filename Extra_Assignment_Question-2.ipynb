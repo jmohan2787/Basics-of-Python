{
 "cells": [
  {
   "cell_type": "code",
   "execution_count": 2,
   "id": "87e0ec4d-f7e4-4701-af21-ce437aecbb97",
   "metadata": {},
   "outputs": [
    {
     "name": "stdout",
     "output_type": "stream",
     "text": [
      "0\n",
      "1\n",
      "2\n",
      "3\n",
      "4\n",
      "5\n",
      "6\n",
      "7\n",
      "8\n",
      "9\n",
      "10\n",
      "11\n",
      "12\n",
      "13\n",
      "14\n",
      "15\n",
      "16\n",
      "17\n",
      "18\n",
      "19\n"
     ]
    }
   ],
   "source": [
    "for i in range(0,20):\n",
    "    print(i)"
   ]
  },
  {
   "cell_type": "code",
   "execution_count": 11,
   "id": "c807ae55-4d61-4da3-a98b-74d95a6b7d20",
   "metadata": {},
   "outputs": [
    {
     "name": "stdout",
     "output_type": "stream",
     "text": [
      "10 11 12 13 14 15 16 17 18 19 \n"
     ]
    }
   ],
   "source": [
    "data=str()\n",
    "for i in range(10,20):\n",
    "    data+=str(i)+' '\n",
    "print(data)"
   ]
  },
  {
   "cell_type": "code",
   "execution_count": 14,
   "id": "d9d3ee1b-66d3-4aa8-b92d-3db11412eee6",
   "metadata": {},
   "outputs": [
    {
     "name": "stdout",
     "output_type": "stream",
     "text": [
      "7\n"
     ]
    }
   ],
   "source": [
    "list1=[10, 20, 14, 55, 43, 87, 76]\n",
    "print(len(list1))"
   ]
  },
  {
   "cell_type": "code",
   "execution_count": 17,
   "id": "edbbd24d-51b3-4a52-b0ac-3fe788beee51",
   "metadata": {},
   "outputs": [
    {
     "name": "stdout",
     "output_type": "stream",
     "text": [
      "A\n",
      "r\n",
      "t\n",
      "i\n",
      "f\n",
      "i\n",
      "c\n",
      "i\n",
      "a\n",
      "l\n",
      " \n",
      "I\n",
      "n\n",
      "t\n",
      "e\n",
      "l\n",
      "l\n",
      "i\n",
      "g\n",
      "e\n",
      "n\n",
      "c\n",
      "e\n"
     ]
    }
   ],
   "source": [
    "str1='Artificial Intelligence'\n",
    "for i in str1:\n",
    "    print(i)"
   ]
  },
  {
   "cell_type": "markdown",
   "id": "b4d3bfec-b790-44c8-aea0-3ea01b4d5eb6",
   "metadata": {},
   "source": [
    "-Your Name-\n",
    "-Your Age-\n",
    "-Your Profession-"
   ]
  },
  {
   "cell_type": "code",
   "execution_count": 19,
   "id": "ddbf4814-91d3-4432-a59f-c8d209d36556",
   "metadata": {},
   "outputs": [
    {
     "name": "stdout",
     "output_type": "stream",
     "text": [
      "-Your Name-\n",
      "-Your Age-\n",
      "-Your Profession-\n"
     ]
    }
   ],
   "source": [
    "for i in ['Name','Age','Profession']:\n",
    "    print(f'-Your {i}-')"
   ]
  },
  {
   "cell_type": "markdown",
   "id": "25f08966-2627-49c7-8b0a-0c964c5515a3",
   "metadata": {},
   "source": [
    "(1, 'Welcome', 2, 'Hope')"
   ]
  },
  {
   "cell_type": "code",
   "execution_count": 23,
   "id": "c4a62479-2791-4f33-bd5e-94aa6b1fd62c",
   "metadata": {},
   "outputs": [
    {
     "name": "stdout",
     "output_type": "stream",
     "text": [
      "(1, 'Welcom', 2, 'Hope')\n"
     ]
    }
   ],
   "source": [
    "tup1=(1,'Welcom', 2, 'Hope')\n",
    "print(tup1)"
   ]
  },
  {
   "cell_type": "code",
   "execution_count": 24,
   "id": "262e4ee2-3c5b-41a2-b516-4f220beddb46",
   "metadata": {},
   "outputs": [
    {
     "name": "stdout",
     "output_type": "stream",
     "text": [
      "(1, 2, 3, 4, 5)\n"
     ]
    }
   ],
   "source": [
    "tup2=(1,2,3,4,5)\n",
    "print(tup2)"
   ]
  },
  {
   "cell_type": "code",
   "execution_count": 26,
   "id": "3818be04-4c6a-4a16-b020-9d15df149c76",
   "metadata": {},
   "outputs": [
    {
     "name": "stdout",
     "output_type": "stream",
     "text": [
      "((1, 'Welcom', 2, 'Hope'), (1, 2, 3, 4, 5))\n"
     ]
    }
   ],
   "source": [
    "tup3=(tup1,tup2)\n",
    "print(tup3)"
   ]
  },
  {
   "cell_type": "code",
   "execution_count": 29,
   "id": "70273d1d-2103-4373-8512-1cd9178687d7",
   "metadata": {},
   "outputs": [
    {
     "name": "stdout",
     "output_type": "stream",
     "text": [
      "19 is Odd Number\n",
      "25 is Odd Number\n",
      "1 is Odd Number\n"
     ]
    }
   ],
   "source": [
    "lst=(20,10,16,19,25,1,276,188)\n",
    "for i in lst:\n",
    "    if i%2:\n",
    "        print(f'{i} is Odd Number')\n",
    "    # else:\n",
    "    #     print(f'{i} is Even Number')"
   ]
  },
  {
   "cell_type": "code",
   "execution_count": 30,
   "id": "707afa4c-2352-4f95-a2b2-0265b8ae93bb",
   "metadata": {},
   "outputs": [
    {
     "name": "stdout",
     "output_type": "stream",
     "text": [
      "20 is Even Number\n",
      "10 is Even Number\n",
      "16 is Even Number\n",
      "276 is Even Number\n",
      "188 is Even Number\n"
     ]
    }
   ],
   "source": [
    "lst=(20,10,16,19,25,1,276,188)\n",
    "for i in lst:\n",
    "    if i%2:\n",
    "        pass\n",
    "    else:\n",
    "        print(f'{i} is Even Number')\n"
   ]
  },
  {
   "cell_type": "code",
   "execution_count": null,
   "id": "e8b9f011-b442-4bc8-8fea-c09661c87055",
   "metadata": {},
   "outputs": [],
   "source": []
  }
 ],
 "metadata": {
  "kernelspec": {
   "display_name": "Python 3 (ipykernel)",
   "language": "python",
   "name": "python3"
  },
  "language_info": {
   "codemirror_mode": {
    "name": "ipython",
    "version": 3
   },
   "file_extension": ".py",
   "mimetype": "text/x-python",
   "name": "python",
   "nbconvert_exporter": "python",
   "pygments_lexer": "ipython3",
   "version": "3.12.7"
  }
 },
 "nbformat": 4,
 "nbformat_minor": 5
}
