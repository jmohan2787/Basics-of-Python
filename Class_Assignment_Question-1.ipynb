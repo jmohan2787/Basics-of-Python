{
 "cells": [
  {
   "cell_type": "code",
   "execution_count": 3,
   "id": "246285b9-7023-4d5d-911d-083f2ca699c7",
   "metadata": {},
   "outputs": [],
   "source": [
    "from SubfieldsInAI import SubfieldsInAI"
   ]
  },
  {
   "cell_type": "code",
   "execution_count": 4,
   "id": "f15fcf91-fd26-4724-bf62-a9d602f0b086",
   "metadata": {},
   "outputs": [
    {
     "name": "stdout",
     "output_type": "stream",
     "text": [
      "Sub-fields in AI are:\n",
      "Machine Learning\n",
      "Neural Networks\n",
      "Vision\n",
      "Robotics\n",
      "Speech Processing\n",
      "Natural Language Processing\n"
     ]
    }
   ],
   "source": [
    "SubfieldsInAI.subFields()"
   ]
  },
  {
   "cell_type": "code",
   "execution_count": 5,
   "id": "03dbb895-566d-44de-9a10-666754b00642",
   "metadata": {},
   "outputs": [],
   "source": [
    "from OddEven import OddEven"
   ]
  },
  {
   "cell_type": "code",
   "execution_count": 7,
   "id": "3cb668cc-5960-461c-98f2-8e94613fdddd",
   "metadata": {},
   "outputs": [
    {
     "name": "stdin",
     "output_type": "stream",
     "text": [
      "Enter a number: 52452\n"
     ]
    },
    {
     "data": {
      "text/plain": [
       "'52452 is Even number '"
      ]
     },
     "execution_count": 7,
     "metadata": {},
     "output_type": "execute_result"
    }
   ],
   "source": [
    "OddEven.OddEven()"
   ]
  },
  {
   "cell_type": "code",
   "execution_count": 8,
   "id": "af642aa2-d199-4f5f-83aa-70100be43619",
   "metadata": {},
   "outputs": [],
   "source": [
    "from ElegiblityForMarriage import ElegiblityForMarriage"
   ]
  },
  {
   "cell_type": "code",
   "execution_count": 10,
   "id": "8bcb97de-d78b-4dce-951f-cb4d87d5e949",
   "metadata": {},
   "outputs": [
    {
     "name": "stdin",
     "output_type": "stream",
     "text": [
      "Your Gender: male\n",
      "Your Age: 20\n"
     ]
    },
    {
     "data": {
      "text/plain": [
       "'NOT ELIGILBLE'"
      ]
     },
     "execution_count": 10,
     "metadata": {},
     "output_type": "execute_result"
    }
   ],
   "source": [
    "ElegiblityForMarriage.Elegible()"
   ]
  },
  {
   "cell_type": "code",
   "execution_count": 11,
   "id": "fc07f42f-c8bb-4673-bfc5-5b4ddb29a43d",
   "metadata": {},
   "outputs": [],
   "source": [
    "from FindPercent import FindPercent"
   ]
  },
  {
   "cell_type": "code",
   "execution_count": 12,
   "id": "17df7c25-98d3-44ec-aa53-2f392787e0fc",
   "metadata": {},
   "outputs": [
    {
     "name": "stdin",
     "output_type": "stream",
     "text": [
      "Subject1= 98\n",
      "Subject2= 87\n",
      "Subject3= 95\n",
      "Subject4= 95\n",
      "Subject5= 93\n"
     ]
    },
    {
     "name": "stdout",
     "output_type": "stream",
     "text": [
      "Total : 468\n",
      "Percentage : 93.59999999999999\n"
     ]
    }
   ],
   "source": [
    "FindPercent.percentage()"
   ]
  },
  {
   "cell_type": "code",
   "execution_count": 14,
   "id": "56f2e694-3e23-42e0-8350-ce5b2f940f67",
   "metadata": {},
   "outputs": [],
   "source": [
    "from triangle import triangle"
   ]
  },
  {
   "cell_type": "code",
   "execution_count": 16,
   "id": "3b4fc5ca-c82c-4306-9e76-e555109505d5",
   "metadata": {},
   "outputs": [
    {
     "name": "stdout",
     "output_type": "stream",
     "text": [
      "Height: 32\n",
      "Breadth: 34\n",
      "Area formula: (Height*Breadth)/2\n",
      "Area of Triangle:  544.0\n",
      "Height1: 2\n",
      "Height2: 4\n",
      "Breadth: 4\n",
      "Perimeter formula: Height1+Height2+Breadth\n",
      "Perimeter of Triangle:  10\n"
     ]
    }
   ],
   "source": [
    "triangle.triangle(32,34,2,4,4)"
   ]
  },
  {
   "cell_type": "code",
   "execution_count": null,
   "id": "6ac08e8e-d34d-40ec-9758-8fa3c63e8318",
   "metadata": {},
   "outputs": [],
   "source": []
  }
 ],
 "metadata": {
  "kernelspec": {
   "display_name": "Python 3 (ipykernel)",
   "language": "python",
   "name": "python3"
  },
  "language_info": {
   "codemirror_mode": {
    "name": "ipython",
    "version": 3
   },
   "file_extension": ".py",
   "mimetype": "text/x-python",
   "name": "python",
   "nbconvert_exporter": "python",
   "pygments_lexer": "ipython3",
   "version": "3.12.7"
  }
 },
 "nbformat": 4,
 "nbformat_minor": 5
}
