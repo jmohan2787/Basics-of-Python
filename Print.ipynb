{
 "cells": [
  {
   "cell_type": "code",
   "execution_count": 1,
   "id": "d50e8ca1-d3b6-4ff8-98b0-49275d4dcd9d",
   "metadata": {},
   "outputs": [
    {
     "name": "stdout",
     "output_type": "stream",
     "text": [
      "\n"
     ]
    }
   ],
   "source": [
    "print('')"
   ]
  },
  {
   "cell_type": "code",
   "execution_count": 2,
   "id": "0bf5926f-c478-45d5-ab08-de05f908920a",
   "metadata": {},
   "outputs": [
    {
     "name": "stdout",
     "output_type": "stream",
     "text": [
      "Welcome to Hope AI\n"
     ]
    }
   ],
   "source": [
    "print('Welcome to Hope AI')"
   ]
  },
  {
   "cell_type": "code",
   "execution_count": 3,
   "id": "fc66fae5-0d64-4990-830a-b6f2b63a1630",
   "metadata": {},
   "outputs": [],
   "source": [
    "new='Hope AI'"
   ]
  },
  {
   "cell_type": "code",
   "execution_count": 4,
   "id": "2fed9bba-b7f2-4bca-af19-4b77a36a3a51",
   "metadata": {},
   "outputs": [
    {
     "name": "stdout",
     "output_type": "stream",
     "text": [
      " I am new to Hope AI\n"
     ]
    }
   ],
   "source": [
    "print(f' I am new to {new}')"
   ]
  },
  {
   "cell_type": "code",
   "execution_count": null,
   "id": "8e76faab-2ba3-49c3-b5ad-4090583af19d",
   "metadata": {},
   "outputs": [],
   "source": []
  }
 ],
 "metadata": {
  "kernelspec": {
   "display_name": "Python 3 (ipykernel)",
   "language": "python",
   "name": "python3"
  },
  "language_info": {
   "codemirror_mode": {
    "name": "ipython",
    "version": 3
   },
   "file_extension": ".py",
   "mimetype": "text/x-python",
   "name": "python",
   "nbconvert_exporter": "python",
   "pygments_lexer": "ipython3",
   "version": "3.12.7"
  }
 },
 "nbformat": 4,
 "nbformat_minor": 5
}
