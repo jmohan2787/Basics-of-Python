{
 "cells": [
  {
   "cell_type": "code",
   "execution_count": 1,
   "id": "e85a1c2d-8709-44fd-bd3d-1e4592c9c864",
   "metadata": {},
   "outputs": [],
   "source": [
    "from getAllFunction import *"
   ]
  },
  {
   "cell_type": "code",
   "execution_count": 2,
   "id": "3f10f8dd-5050-4e4a-bd71-d915078705f5",
   "metadata": {},
   "outputs": [
    {
     "name": "stdin",
     "output_type": "stream",
     "text": [
      "Your Gender: male\n",
      "Your Age: 20\n"
     ]
    },
    {
     "data": {
      "text/plain": [
       "'NOT ELIGILBLE'"
      ]
     },
     "execution_count": 2,
     "metadata": {},
     "output_type": "execute_result"
    }
   ],
   "source": [
    "getAllFunction.Elegible()"
   ]
  },
  {
   "cell_type": "code",
   "execution_count": 4,
   "id": "9419d51a-3e90-4e4c-86bf-bf485932149c",
   "metadata": {},
   "outputs": [
    {
     "name": "stdout",
     "output_type": "stream",
     "text": [
      "Sub-fields in AI are:\n",
      "Machine Learning\n",
      "Neural Networks\n",
      "Vision\n",
      "Robotics\n",
      "Speech Processing\n",
      "Natural Language Processing\n"
     ]
    }
   ],
   "source": [
    "getAllFunction.subFields()"
   ]
  },
  {
   "cell_type": "code",
   "execution_count": 5,
   "id": "36bc051b-754e-47cc-9860-465178444fcf",
   "metadata": {},
   "outputs": [
    {
     "name": "stdin",
     "output_type": "stream",
     "text": [
      "Enter a number: 52452\n"
     ]
    },
    {
     "data": {
      "text/plain": [
       "'52452 is Even number '"
      ]
     },
     "execution_count": 5,
     "metadata": {},
     "output_type": "execute_result"
    }
   ],
   "source": [
    "getAllFunction.OddEven()\n"
   ]
  },
  {
   "cell_type": "code",
   "execution_count": 6,
   "id": "b6576b24-b544-4440-ad9e-8a65bd1d2045",
   "metadata": {},
   "outputs": [
    {
     "name": "stdin",
     "output_type": "stream",
     "text": [
      "Your Gender: male\n",
      "Your Age: 20\n"
     ]
    },
    {
     "data": {
      "text/plain": [
       "'NOT ELIGILBLE'"
      ]
     },
     "execution_count": 6,
     "metadata": {},
     "output_type": "execute_result"
    }
   ],
   "source": [
    "getAllFunction.Elegible()"
   ]
  },
  {
   "cell_type": "code",
   "execution_count": 7,
   "id": "45f9b82e-dd63-4eb2-afbb-a0da5af545f3",
   "metadata": {},
   "outputs": [
    {
     "name": "stdin",
     "output_type": "stream",
     "text": [
      "Subject1= 98\n",
      "Subject2= 87\n",
      "Subject3= 95\n",
      "Subject4= 95\n",
      "Subject5= 93\n"
     ]
    },
    {
     "name": "stdout",
     "output_type": "stream",
     "text": [
      "Total : 468\n",
      "Percentage : 93.59999999999999\n"
     ]
    }
   ],
   "source": [
    "getAllFunction.percentage()"
   ]
  },
  {
   "cell_type": "code",
   "execution_count": 9,
   "id": "705d2eca-50d4-48f4-90ec-cb52004d6896",
   "metadata": {},
   "outputs": [
    {
     "name": "stdout",
     "output_type": "stream",
     "text": [
      "Height: 32\n",
      "Breadth: 34\n",
      "Area formula: (Height*Breadth)/2\n",
      "Area of Triangle:  544.0\n",
      "Height1: 2\n",
      "Height2: 4\n",
      "Breadth: 4\n",
      "Perimeter formula: Height1+Height2+Breadth\n",
      "Perimeter of Triangle:  10\n"
     ]
    }
   ],
   "source": [
    "getAllFunction.triangle(32,34,2,4,4)"
   ]
  },
  {
   "cell_type": "code",
   "execution_count": null,
   "id": "7c0c1d97-831f-4ee4-8eb2-2733def031b2",
   "metadata": {},
   "outputs": [],
   "source": []
  },
  {
   "cell_type": "code",
   "execution_count": null,
   "id": "f0d69d8a-e956-42d1-a52c-afcba40659d4",
   "metadata": {},
   "outputs": [],
   "source": []
  }
 ],
 "metadata": {
  "kernelspec": {
   "display_name": "Python 3 (ipykernel)",
   "language": "python",
   "name": "python3"
  },
  "language_info": {
   "codemirror_mode": {
    "name": "ipython",
    "version": 3
   },
   "file_extension": ".py",
   "mimetype": "text/x-python",
   "name": "python",
   "nbconvert_exporter": "python",
   "pygments_lexer": "ipython3",
   "version": "3.12.7"
  }
 },
 "nbformat": 4,
 "nbformat_minor": 5
}
