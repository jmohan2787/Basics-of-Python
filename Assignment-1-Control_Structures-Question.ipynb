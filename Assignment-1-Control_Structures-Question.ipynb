{
 "cells": [
  {
   "cell_type": "code",
   "execution_count": 1,
   "id": "ea68de1b-4ecc-466c-87f4-664e469a3e3c",
   "metadata": {},
   "outputs": [
    {
     "name": "stdout",
     "output_type": "stream",
     "text": [
      "hi\n"
     ]
    }
   ],
   "source": [
    "print('hi')"
   ]
  },
  {
   "cell_type": "code",
   "execution_count": 2,
   "id": "22db2fa8-7fb2-46b1-8482-0837f19d484f",
   "metadata": {},
   "outputs": [
    {
     "name": "stdout",
     "output_type": "stream",
     "text": [
      "Welcome to Assignment-1\n"
     ]
    }
   ],
   "source": [
    "print('Welcome to Assignment-1')"
   ]
  },
  {
   "cell_type": "markdown",
   "id": "12027af4-9ac5-4db2-a625-190d19adebeb",
   "metadata": {},
   "source": [
    "Num1= 10\n",
    "Num2= 30\n",
    "Add= 40"
   ]
  },
  {
   "cell_type": "code",
   "execution_count": 6,
   "id": "c3d67224-79fd-400d-adda-2acfb0ed5623",
   "metadata": {},
   "outputs": [
    {
     "name": "stdout",
     "output_type": "stream",
     "text": [
      "Num1= 10\n",
      "Num2= 30\n",
      "Add= 40\n"
     ]
    }
   ],
   "source": [
    "Num1=10\n",
    "print('Num1=',Num1)\n",
    "Num2=30\n",
    "print('Num2=',Num2)\n",
    "add=Num1+Num2\n",
    "print('Add=',add)"
   ]
  },
  {
   "cell_type": "markdown",
   "id": "6891780e-c45b-4644-9777-7a4fa094df16",
   "metadata": {},
   "source": [
    "Enter the BMI Index:34\n",
    "Very Overweight"
   ]
  },
  {
   "cell_type": "code",
   "execution_count": 45,
   "id": "6d28888b-dc2f-4f99-8b21-8c949d03e769",
   "metadata": {},
   "outputs": [
    {
     "name": "stdin",
     "output_type": "stream",
     "text": [
      "Enter the BMI Index: 16\n"
     ]
    },
    {
     "name": "stdout",
     "output_type": "stream",
     "text": [
      "16.0\n",
      "UnderWeight\n"
     ]
    }
   ],
   "source": [
    "BMIValue=float(input('Enter the BMI Index:'))\n",
    "print(BMIValue)\n",
    "if BMIValue < 18.5:\n",
    "    print('UnderWeight')\n",
    "elif 18.5 <= BMIValue <24.9:\n",
    "    print('Normal')\n",
    "elif 25 <= BMIValue < 29.9:\n",
    "    print('OverWeight')\n",
    "elif 30 <= BMIValue <34.9:\n",
    "    print('Obesity Mild')\n",
    "elif 35 <= BMIValue < 39.9:\n",
    "    print('Obesity Moderate')\n",
    "elif BMIValue >= 40:\n",
    "    print('Obesity Morbid')"
   ]
  },
  {
   "cell_type": "code",
   "execution_count": null,
   "id": "86dde137-8669-4ef6-a473-60e284bed955",
   "metadata": {},
   "outputs": [],
   "source": []
  },
  {
   "cell_type": "code",
   "execution_count": null,
   "id": "b4a649c5-03bd-499a-ac3b-d95d41fae7bf",
   "metadata": {},
   "outputs": [],
   "source": []
  }
 ],
 "metadata": {
  "kernelspec": {
   "display_name": "Python 3 (ipykernel)",
   "language": "python",
   "name": "python3"
  },
  "language_info": {
   "codemirror_mode": {
    "name": "ipython",
    "version": 3
   },
   "file_extension": ".py",
   "mimetype": "text/x-python",
   "name": "python",
   "nbconvert_exporter": "python",
   "pygments_lexer": "ipython3",
   "version": "3.12.7"
  }
 },
 "nbformat": 4,
 "nbformat_minor": 5
}
