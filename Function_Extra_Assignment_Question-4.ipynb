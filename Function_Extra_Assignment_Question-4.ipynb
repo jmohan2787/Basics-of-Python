{
 "cells": [
  {
   "cell_type": "code",
   "execution_count": 3,
   "id": "c7084011-955f-4f19-bd57-34e2b0484ed0",
   "metadata": {},
   "outputs": [],
   "source": [
    "def subFields():\n",
    "    print('Sub-fields in AI are:')\n",
    "    print('Machine Learning')\n",
    "    print('Neural Networks')\n",
    "    print('Vision')\n",
    "    print('Robotics')\n",
    "    print('Speech Processing')\n",
    "    print('Natural Language Processing')\n",
    "    \n",
    "    \n",
    "    "
   ]
  },
  {
   "cell_type": "code",
   "execution_count": 4,
   "id": "64f30817-10e4-4f3e-adf1-9a4bbb179860",
   "metadata": {},
   "outputs": [
    {
     "name": "stdout",
     "output_type": "stream",
     "text": [
      "Sub-fields in AI are:\n",
      "Machine Learning\n",
      "Neural Networks\n",
      "Vision\n",
      "Robotics\n",
      "Speech Processing\n",
      "Natural Language Processing\n"
     ]
    }
   ],
   "source": [
    "subFields()"
   ]
  },
  {
   "cell_type": "code",
   "execution_count": 21,
   "id": "38899138-5730-4953-8b84-338227acc9a7",
   "metadata": {},
   "outputs": [],
   "source": [
    "def OddEven():\n",
    "    num=int(input('Enter a number:'))\n",
    "    if (num%2)==1:\n",
    "        # print('Odd Number')\n",
    "        return f'{num} is Odd Number'\n",
    "    else:\n",
    "        # print('Even Number')\n",
    "        return f'{num} is Even number '"
   ]
  },
  {
   "cell_type": "code",
   "execution_count": 23,
   "id": "174b08e8-10c4-47d6-a59e-9f1cc5d42431",
   "metadata": {},
   "outputs": [
    {
     "name": "stdin",
     "output_type": "stream",
     "text": [
      "Enter a number: 52452\n"
     ]
    },
    {
     "name": "stdout",
     "output_type": "stream",
     "text": [
      "52452 is Even number \n"
     ]
    }
   ],
   "source": [
    "new=OddEven()\n",
    "print(new)"
   ]
  },
  {
   "cell_type": "code",
   "execution_count": 52,
   "id": "ec307cbe-44a9-4a49-ae7b-18adb6987a82",
   "metadata": {},
   "outputs": [],
   "source": [
    "def Elegible():\n",
    "    gender=str(input('Your Gender:'))\n",
    "    age=int(input('Your Age:'))\n",
    "    if gender.lower() == 'male':\n",
    "        if age >= 21:\n",
    "            return 'EILGIBLE'\n",
    "        else:\n",
    "            return 'NOT ELIGILBLE'\n",
    "\n",
    "    elif gender.lower()=='girl':\n",
    "        if age >=18:\n",
    "            return 'EILGIBLE'\n",
    "        else:\n",
    "            return 'NOT ELIGILBLE'"
   ]
  },
  {
   "cell_type": "code",
   "execution_count": 57,
   "id": "8ca7afd2-22cb-4262-b36e-8ea3741fb528",
   "metadata": {},
   "outputs": [
    {
     "name": "stdin",
     "output_type": "stream",
     "text": [
      "Your Gender: Male\n",
      "Your Age: 20\n"
     ]
    },
    {
     "name": "stdout",
     "output_type": "stream",
     "text": [
      "NOT ELIGILBLE\n"
     ]
    }
   ],
   "source": [
    "new=Elegible()\n",
    "print(new)"
   ]
  },
  {
   "cell_type": "code",
   "execution_count": 76,
   "id": "37459fb3-6546-46e0-b4f4-b25502b09f08",
   "metadata": {},
   "outputs": [],
   "source": [
    "def percentage():\n",
    "    sub1=int(input('Subject1='))\n",
    "    sub2=int(input('Subject2='))\n",
    "    sub3=int(input('Subject3='))\n",
    "    sub4=int(input('Subject4='))\n",
    "    sub5=int(input('Subject5='))\n",
    "    total=sub1+sub2+sub3+sub4+sub5\n",
    "    Percentage= float(total/5)\n",
    "    print('Total :',int(total))\n",
    "    print('Percentage :',f'{Percentage:.14f}')\n",
    "    \n",
    "    "
   ]
  },
  {
   "cell_type": "code",
   "execution_count": 77,
   "id": "4136d32f-bb61-4b8c-b65c-f1bbf44b57ae",
   "metadata": {},
   "outputs": [
    {
     "name": "stdin",
     "output_type": "stream",
     "text": [
      "Subject1= 98\n",
      "Subject2= 87\n",
      "Subject3= 95\n",
      "Subject4= 95\n",
      "Subject5= 93\n"
     ]
    },
    {
     "name": "stdout",
     "output_type": "stream",
     "text": [
      "Total : 468\n",
      "Percentage : 93.59999999999999\n"
     ]
    }
   ],
   "source": [
    "percentage()"
   ]
  },
  {
   "cell_type": "code",
   "execution_count": 104,
   "id": "427b7708-44fe-4589-b5ec-c2b767769771",
   "metadata": {},
   "outputs": [],
   "source": [
    "def triangle(breath,high1,high2=None):\n",
    "    if high2:\n",
    "        # height=int(input('Height:'))\n",
    "        # breadth=int(input('Breadth:'))\n",
    "        print('Height1:',high1)\n",
    "        print('Height2:',high2)\n",
    "        print('Breadth:',breath)\n",
    "        perimeter=high1+high2+breath\n",
    "        return f'Perimeter of Triangle:{perimeter}'\n",
    "    else:\n",
    "        print('Height:',high1)\n",
    "        print('Breadth:',breath)\n",
    "        area=float((high1*breath)/2)\n",
    "        return f'Area of Triangle:{area}'\n",
    "    "
   ]
  },
  {
   "cell_type": "code",
   "execution_count": 105,
   "id": "ee34512c-2fcc-45d0-b75f-bfc3fefb94c4",
   "metadata": {},
   "outputs": [
    {
     "name": "stdout",
     "output_type": "stream",
     "text": [
      "Height1: 22\n",
      "Height2: 22\n",
      "Breadth: 22\n",
      "Perimeter of Triangle:66\n"
     ]
    }
   ],
   "source": [
    "new=triangle(22,22,22)\n",
    "print(new)"
   ]
  },
  {
   "cell_type": "code",
   "execution_count": 118,
   "id": "22cf008e-a1aa-40f3-ac95-1921a28ca495",
   "metadata": {},
   "outputs": [],
   "source": [
    "def triangle(Height,Breadth,Height1,Height2,Breadth1):\n",
    "    print('Height:',Height)\n",
    "    print('Breadth:',Breadth)\n",
    "    area=float((Height*Breadth)/2)\n",
    "    print('Area formula: (Height*Breadth)/2')\n",
    "    print( f'Area of Triangle:  {area}')\n",
    "    print('Height1:',Height1)\n",
    "    print('Height2:',Height2)\n",
    "    print('Breadth:',Breadth1)\n",
    "    perimeter=Height1+Height2+Breadth1\n",
    "    print('Perimeter formula: Height1+Height2+Breadth')\n",
    "    print(f'Perimeter of Triangle:  {perimeter}')\n",
    "    \n"
   ]
  },
  {
   "cell_type": "code",
   "execution_count": 119,
   "id": "12d3d7dd-64d8-42b4-9967-a8bdeb79f630",
   "metadata": {},
   "outputs": [
    {
     "name": "stdout",
     "output_type": "stream",
     "text": [
      "Height: 32\n",
      "Breadth: 34\n",
      "Area formula: (Height*Breadth)/2\n",
      "Area of Triangle:  544.0\n",
      "Height1: 2\n",
      "Height2: 4\n",
      "Breadth: 4\n",
      "Perimeter formula: Height1+Height2+Breadth\n",
      "Perimeter of Triangle:  10\n"
     ]
    }
   ],
   "source": [
    "triangle(32,34,2,4,4)\n"
   ]
  },
  {
   "cell_type": "code",
   "execution_count": null,
   "id": "d0cc47c2-e855-4f48-9b84-6369b71fd522",
   "metadata": {},
   "outputs": [],
   "source": []
  }
 ],
 "metadata": {
  "kernelspec": {
   "display_name": "Python 3 (ipykernel)",
   "language": "python",
   "name": "python3"
  },
  "language_info": {
   "codemirror_mode": {
    "name": "ipython",
    "version": 3
   },
   "file_extension": ".py",
   "mimetype": "text/x-python",
   "name": "python",
   "nbconvert_exporter": "python",
   "pygments_lexer": "ipython3",
   "version": "3.12.7"
  }
 },
 "nbformat": 4,
 "nbformat_minor": 5
}
