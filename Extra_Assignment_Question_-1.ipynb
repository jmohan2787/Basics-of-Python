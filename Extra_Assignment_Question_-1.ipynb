{
 "cells": [
  {
   "cell_type": "markdown",
   "id": "49a1fe93-97c3-41ff-8351-03412fdc04a3",
   "metadata": {},
   "source": [
    "HOPE AI"
   ]
  },
  {
   "cell_type": "code",
   "execution_count": 1,
   "id": "c6d358ae-c9c9-4ebc-867f-7aa7b682de4b",
   "metadata": {},
   "outputs": [
    {
     "name": "stdout",
     "output_type": "stream",
     "text": [
      "HOPE AI\n"
     ]
    }
   ],
   "source": [
    "print('HOPE AI')"
   ]
  },
  {
   "cell_type": "markdown",
   "id": "b01fcc92-1a68-4be8-8d0a-89d6b7519e97",
   "metadata": {},
   "source": [
    "Enter your institute name? : HOPE AI"
   ]
  },
  {
   "cell_type": "code",
   "execution_count": 2,
   "id": "938ec278-ca5e-4fd0-9335-0f7a54c174df",
   "metadata": {},
   "outputs": [
    {
     "name": "stdin",
     "output_type": "stream",
     "text": [
      "Enter your institute name? : HOPE AI\n"
     ]
    }
   ],
   "source": [
    "getinput=str(input('Enter your institute name? :'))\n"
   ]
  },
  {
   "cell_type": "markdown",
   "id": "0d160727-64cc-43a1-ae53-3903cbac4c6b",
   "metadata": {},
   "source": [
    "Enter your name: Raj\n",
    "Enter your age: 15\n",
    "Enter your school name: Guru school\n",
    "Enter your drgree: B.E CSE"
   ]
  },
  {
   "cell_type": "code",
   "execution_count": 6,
   "id": "1a1c0df5-38dc-4949-8a58-8045c8f60ef6",
   "metadata": {},
   "outputs": [
    {
     "name": "stdin",
     "output_type": "stream",
     "text": [
      "Enter your name: Mohan \n",
      "Enter your age: 38\n",
      "Enter your school name: Our Lady Of Lourdu Boys High School\n",
      "Enter your drgree: B.Tech\n"
     ]
    }
   ],
   "source": [
    "getname=str(input('Enter your name:'))\n",
    "getAge=int(input('Enter your age:'))\n",
    "getSchoolName=str(input('Enter your school name:'))\n",
    "getyourDegree=str(input('Enter your drgree:'))"
   ]
  },
  {
   "cell_type": "markdown",
   "id": "4fff933b-1639-4565-a385-cd1404b832f8",
   "metadata": {},
   "source": [
    "a= 43\n",
    "b= 34\n",
    "add = 77"
   ]
  },
  {
   "cell_type": "code",
   "execution_count": 7,
   "id": "b059a0fd-cb07-447b-ae14-6d9fbe785812",
   "metadata": {},
   "outputs": [
    {
     "name": "stdout",
     "output_type": "stream",
     "text": [
      "add= 77\n"
     ]
    }
   ],
   "source": [
    "a=43\n",
    "b=34\n",
    "add=a+b\n",
    "print('add=',add)"
   ]
  },
  {
   "cell_type": "markdown",
   "id": "7e595bd1-bf83-4a7e-9648-7ead96033adf",
   "metadata": {},
   "source": [
    "a= 76\n",
    "b= 31\n",
    "Float Div = 2.4516129032258065"
   ]
  },
  {
   "cell_type": "code",
   "execution_count": 8,
   "id": "d8cc4cf2-b17c-42fd-bed6-259599327644",
   "metadata": {},
   "outputs": [
    {
     "name": "stdout",
     "output_type": "stream",
     "text": [
      "Float Div = 2.4516129032258065\n"
     ]
    }
   ],
   "source": [
    "a=76\n",
    "b=31\n",
    "div=a/b\n",
    "print('Float Div =',div)"
   ]
  },
  {
   "cell_type": "markdown",
   "id": "e69b2a68-5cf0-47ad-95dc-e3004a001612",
   "metadata": {},
   "source": [
    "a= 76\n",
    "b= 31\n",
    "Floor Div = 2"
   ]
  },
  {
   "cell_type": "code",
   "execution_count": 9,
   "id": "e4fa1d64-1a48-4407-a41d-4a822dd3e0ed",
   "metadata": {},
   "outputs": [
    {
     "name": "stdout",
     "output_type": "stream",
     "text": [
      "Floor Div = 2\n"
     ]
    }
   ],
   "source": [
    "a=76\n",
    "b=31\n",
    "div=76/31\n",
    "print('Floor Div =',round(div))"
   ]
  },
  {
   "cell_type": "markdown",
   "id": "25a917b4-2606-4233-ad13-76840504255f",
   "metadata": {},
   "source": [
    "a= 76\n",
    "b= 31\n",
    "Modulo = 14"
   ]
  },
  {
   "cell_type": "code",
   "execution_count": 10,
   "id": "4568563b-6b55-41ab-8754-751aa360e183",
   "metadata": {},
   "outputs": [
    {
     "name": "stdout",
     "output_type": "stream",
     "text": [
      "Modulo = 14\n"
     ]
    }
   ],
   "source": [
    "a=76\n",
    "b=31\n",
    "mod=a%b\n",
    "print('Modulo =',mod)"
   ]
  },
  {
   "cell_type": "markdown",
   "id": "cbe75e1b-cbde-4af4-9064-b31d2bd6b1fd",
   "metadata": {},
   "source": [
    "Question\n",
    "a= 4\n",
    "b= 4\n",
    "Power = 256"
   ]
  },
  {
   "cell_type": "code",
   "execution_count": 11,
   "id": "e0e838a8-7c21-4d16-a6c7-da1a40dd6f3b",
   "metadata": {},
   "outputs": [
    {
     "name": "stdout",
     "output_type": "stream",
     "text": [
      "Power = 256\n"
     ]
    }
   ],
   "source": [
    "a=4\n",
    "b=4\n",
    "c=a**b\n",
    "print('Power =',c)"
   ]
  },
  {
   "cell_type": "code",
   "execution_count": null,
   "id": "08aeabad-da2c-4689-9ea2-7c2e658cc1f7",
   "metadata": {},
   "outputs": [],
   "source": []
  }
 ],
 "metadata": {
  "kernelspec": {
   "display_name": "Python 3 (ipykernel)",
   "language": "python",
   "name": "python3"
  },
  "language_info": {
   "codemirror_mode": {
    "name": "ipython",
    "version": 3
   },
   "file_extension": ".py",
   "mimetype": "text/x-python",
   "name": "python",
   "nbconvert_exporter": "python",
   "pygments_lexer": "ipython3",
   "version": "3.12.7"
  }
 },
 "nbformat": 4,
 "nbformat_minor": 5
}
