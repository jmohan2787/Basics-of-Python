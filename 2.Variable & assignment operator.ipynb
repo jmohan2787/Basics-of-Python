{
 "cells": [
  {
   "cell_type": "code",
   "execution_count": 1,
   "id": "8d82f63d-e57c-4a7d-9c76-74cb2812eece",
   "metadata": {},
   "outputs": [],
   "source": [
    "num1=30\n",
    "num2=40\n",
    "add=num1+num2\n"
   ]
  },
  {
   "cell_type": "code",
   "execution_count": 2,
   "id": "6b67a55f-f143-4db6-8112-e3d5ef8375b5",
   "metadata": {},
   "outputs": [
    {
     "name": "stdout",
     "output_type": "stream",
     "text": [
      "70\n"
     ]
    }
   ],
   "source": [
    "print(add)\n"
   ]
  },
  {
   "cell_type": "code",
   "execution_count": 3,
   "id": "37aafeec-4dc8-4b95-966f-5e364c8c91dd",
   "metadata": {},
   "outputs": [
    {
     "name": "stdout",
     "output_type": "stream",
     "text": [
      "The addition of two numbers\n"
     ]
    }
   ],
   "source": [
    "print('The addition of two numbers')"
   ]
  },
  {
   "cell_type": "code",
   "execution_count": 5,
   "id": "24f6ee06-61ab-4a3b-a20d-1c2fabf9702d",
   "metadata": {},
   "outputs": [
    {
     "name": "stdout",
     "output_type": "stream",
     "text": [
      "Number 1 is:10\n"
     ]
    }
   ],
   "source": [
    "number1=10\n",
    "print(f'Number 1 is:{number1}')\n"
   ]
  },
  {
   "cell_type": "code",
   "execution_count": 7,
   "id": "f454bd5c-643f-4a16-b3e7-1ad8e3c6d122",
   "metadata": {},
   "outputs": [
    {
     "name": "stdout",
     "output_type": "stream",
     "text": [
      "Number 1: 10\n"
     ]
    }
   ],
   "source": [
    "number1=10\n",
    "print(\"Number 1:\",number1)"
   ]
  },
  {
   "cell_type": "code",
   "execution_count": 8,
   "id": "e6cb1ee7-0f2d-45e7-b670-98099b55f548",
   "metadata": {},
   "outputs": [],
   "source": [
    "number=20\n"
   ]
  },
  {
   "cell_type": "code",
   "execution_count": 11,
   "id": "89671d54-fd07-4f4d-99ac-c57b67d21a85",
   "metadata": {},
   "outputs": [],
   "source": [
    "number2=20\n"
   ]
  },
  {
   "cell_type": "code",
   "execution_count": 13,
   "id": "3a5718a4-1924-4f69-9ab9-dfb14ab6ef72",
   "metadata": {},
   "outputs": [
    {
     "name": "stdout",
     "output_type": "stream",
     "text": [
      "The addition of two numbers\n",
      "Number 1 is:10\n",
      "Number 2 is:20\n",
      "The Answers: 30\n"
     ]
    }
   ],
   "source": [
    "print('The addition of two numbers')\n",
    "print(f'Number 1 is:{number1}')\n",
    "print(f'Number 2 is:{number2}')\n",
    "print('The Answers:',number1+number2)"
   ]
  },
  {
   "cell_type": "code",
   "execution_count": 15,
   "id": "378c3a6a-bf50-48fa-b2e7-886a8e941ec4",
   "metadata": {},
   "outputs": [
    {
     "name": "stdin",
     "output_type": "stream",
     "text": [
      "Enter Number 1: 20\n",
      "Enter Number 2: 13\n"
     ]
    }
   ],
   "source": [
    "number1=input(\"Enter Number 1:\")\n",
    "number2=input(\"Enter Number 2:\")"
   ]
  },
  {
   "cell_type": "code",
   "execution_count": 17,
   "id": "15ccb3e5-f75a-4c3b-8410-04d2cceefe34",
   "metadata": {},
   "outputs": [
    {
     "name": "stdout",
     "output_type": "stream",
     "text": [
      "2013\n"
     ]
    }
   ],
   "source": [
    "add=number1+number2\n",
    "print(add) # reason that input considered as a string, so it is concadinate the both the value"
   ]
  },
  {
   "cell_type": "code",
   "execution_count": 21,
   "id": "d0f6e6cf-6d3d-438c-bc33-6a03267bdead",
   "metadata": {},
   "outputs": [
    {
     "name": "stdin",
     "output_type": "stream",
     "text": [
      "Enter Number 1: 11\n",
      "Enter Number 2: 22\n"
     ]
    },
    {
     "name": "stdout",
     "output_type": "stream",
     "text": [
      "Add two Number: 33\n"
     ]
    }
   ],
   "source": [
    "number1=int(input(\"Enter Number 1:\"))\n",
    "number2=int(input(\"Enter Number 2:\"))\n",
    "add=number1+number2\n",
    "print('Add two Number:',add)"
   ]
  },
  {
   "cell_type": "code",
   "execution_count": null,
   "id": "cce7d2ad-9675-407e-9347-716e2e40c84e",
   "metadata": {},
   "outputs": [],
   "source": []
  }
 ],
 "metadata": {
  "kernelspec": {
   "display_name": "Python 3 (ipykernel)",
   "language": "python",
   "name": "python3"
  },
  "language_info": {
   "codemirror_mode": {
    "name": "ipython",
    "version": 3
   },
   "file_extension": ".py",
   "mimetype": "text/x-python",
   "name": "python",
   "nbconvert_exporter": "python",
   "pygments_lexer": "ipython3",
   "version": "3.12.7"
  }
 },
 "nbformat": 4,
 "nbformat_minor": 5
}
