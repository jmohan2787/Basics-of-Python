{
 "cells": [
  {
   "cell_type": "code",
   "execution_count": 4,
   "id": "0cfac04f-eafe-4c32-a78d-f2e2ec08e63f",
   "metadata": {},
   "outputs": [
    {
     "name": "stdin",
     "output_type": "stream",
     "text": [
      "Enter value: 10\n"
     ]
    },
    {
     "name": "stdout",
     "output_type": "stream",
     "text": [
      "CORRECT\n"
     ]
    }
   ],
   "source": [
    "#print 'CORRECT' if i == 10\n",
    "\n",
    "inp=int(input('Enter value:'))\n",
    "if inp==10:\n",
    "    print('CORRECT')\n",
    "else:\n",
    "    print('Value is not 10, NOT CORRECT')"
   ]
  },
  {
   "cell_type": "code",
   "execution_count": 10,
   "id": "368e0e68-7b10-4f17-b306-306b54839cf9",
   "metadata": {},
   "outputs": [
    {
     "name": "stdin",
     "output_type": "stream",
     "text": [
      "Enter Pass: HOPE@123\n"
     ]
    },
    {
     "name": "stdout",
     "output_type": "stream",
     "text": [
      "Your password is correct\n"
     ]
    }
   ],
   "source": [
    "# Check the password, using if and else\n",
    "passwrd=str(input('Enter Pass:'))\n",
    "if passwrd== 'HOPE@123':\n",
    "    print('Your password is correct')\n",
    "else:\n",
    "    print('Not correct')"
   ]
  },
  {
   "cell_type": "code",
   "execution_count": 21,
   "id": "92fc5606-c213-4218-8e5c-a6e727b20d49",
   "metadata": {},
   "outputs": [
    {
     "name": "stdin",
     "output_type": "stream",
     "text": [
      "Enter Your Age: 60\n"
     ]
    },
    {
     "name": "stdout",
     "output_type": "stream",
     "text": [
      "Citizen\n"
     ]
    }
   ],
   "source": [
    "# Catagory the people by their age like children, adult, citizen, senior citizen...\n",
    "\n",
    "age=int(input('Enter Your Age:'))\n",
    "if age <=18:\n",
    "    print('childer')\n",
    "elif 19 <= age <=40:\n",
    "    print('Adult')\n",
    "elif 41 <= age <= 60:\n",
    "    print('Citizen')\n",
    "else:\n",
    "    print('senior citizen')"
   ]
  },
  {
   "cell_type": "code",
   "execution_count": 28,
   "id": "1d0e6d7a-7bce-40c1-8e41-2592ccdb2016",
   "metadata": {},
   "outputs": [
    {
     "name": "stdin",
     "output_type": "stream",
     "text": [
      "Enter any number: -1.1\n"
     ]
    },
    {
     "name": "stdout",
     "output_type": "stream",
     "text": [
      "No is negative\n"
     ]
    }
   ],
   "source": [
    "#Find whether given number is positive or negative\n",
    "num=float(input('Enter any number:'))\n",
    "\n",
    "if num >=0:\n",
    "    print('No is positive')\n",
    "elif num <=0:\n",
    "    print('No is negative')"
   ]
  },
  {
   "cell_type": "code",
   "execution_count": 35,
   "id": "1151eeb5-cd9e-4196-9baf-623dbd9f0422",
   "metadata": {},
   "outputs": [
    {
     "name": "stdin",
     "output_type": "stream",
     "text": [
      "Enter a number to check: 25\n"
     ]
    },
    {
     "name": "stdout",
     "output_type": "stream",
     "text": [
      "No is divisible by 5\n"
     ]
    }
   ],
   "source": [
    "# Check whether the given number is divisible by 5\n",
    "num=int(input('Enter a number to check:'))\n",
    "if num%5:\n",
    "    print('entered number is not divisble by 5')\n",
    "else:\n",
    "    print('No is divisible by 5')\n",
    "    "
   ]
  },
  {
   "cell_type": "code",
   "execution_count": null,
   "id": "4a7ac9db-e16d-412a-8e80-67bed3af6171",
   "metadata": {},
   "outputs": [],
   "source": []
  }
 ],
 "metadata": {
  "kernelspec": {
   "display_name": "Python 3 (ipykernel)",
   "language": "python",
   "name": "python3"
  },
  "language_info": {
   "codemirror_mode": {
    "name": "ipython",
    "version": 3
   },
   "file_extension": ".py",
   "mimetype": "text/x-python",
   "name": "python",
   "nbconvert_exporter": "python",
   "pygments_lexer": "ipython3",
   "version": "3.12.7"
  }
 },
 "nbformat": 4,
 "nbformat_minor": 5
}
