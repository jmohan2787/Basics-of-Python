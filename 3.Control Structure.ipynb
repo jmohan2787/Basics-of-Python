{
 "cells": [
  {
   "cell_type": "code",
   "execution_count": 11,
   "id": "712e9811-29fb-4f11-882e-dda017f92a13",
   "metadata": {},
   "outputs": [
    {
     "name": "stdin",
     "output_type": "stream",
     "text": [
      "Enter your age: 69\n"
     ]
    }
   ],
   "source": [
    "age=int(input('Enter your age:'))"
   ]
  },
  {
   "cell_type": "code",
   "execution_count": 12,
   "id": "f7a78f4b-67cd-43c4-939b-50e87c537ff2",
   "metadata": {},
   "outputs": [
    {
     "name": "stdout",
     "output_type": "stream",
     "text": [
      "Senior Citizen\n"
     ]
    }
   ],
   "source": [
    "if (age <18):\n",
    "    print('Childeren')\n",
    "elif(age<35):\n",
    "    print('Adult')\n",
    "elif(age<59):\n",
    "    print('Citizen')\n",
    "else:\n",
    "    print('Senior Citizen')"
   ]
  },
  {
   "cell_type": "code",
   "execution_count": 13,
   "id": "92804459-a0e1-46bd-8f5c-285445bdc490",
   "metadata": {},
   "outputs": [],
   "source": [
    "lists=[22,34,45,56,78]"
   ]
  },
  {
   "cell_type": "code",
   "execution_count": 15,
   "id": "c6c9a32d-d9e6-42cc-9a3c-b05b289a8ce1",
   "metadata": {},
   "outputs": [
    {
     "name": "stdout",
     "output_type": "stream",
     "text": [
      "Adult\n",
      "Adult\n",
      "Citizen\n",
      "Citizen\n",
      "Senior Citizen\n"
     ]
    }
   ],
   "source": [
    "for age in lists:\n",
    "    if (age <18):\n",
    "        print('Childeren')\n",
    "    elif(age<35):\n",
    "        print('Adult')\n",
    "    elif(age<59):\n",
    "        print('Citizen')\n",
    "    else:\n",
    "        print('Senior Citizen')"
   ]
  },
  {
   "cell_type": "code",
   "execution_count": null,
   "id": "e302bd80-65f8-4ae9-b721-e3c0085f4364",
   "metadata": {},
   "outputs": [],
   "source": []
  }
 ],
 "metadata": {
  "kernelspec": {
   "display_name": "Python 3 (ipykernel)",
   "language": "python",
   "name": "python3"
  },
  "language_info": {
   "codemirror_mode": {
    "name": "ipython",
    "version": 3
   },
   "file_extension": ".py",
   "mimetype": "text/x-python",
   "name": "python",
   "nbconvert_exporter": "python",
   "pygments_lexer": "ipython3",
   "version": "3.12.7"
  }
 },
 "nbformat": 4,
 "nbformat_minor": 5
}
